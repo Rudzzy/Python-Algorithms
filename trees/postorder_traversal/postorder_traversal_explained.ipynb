{
 "cells": [
  {
   "cell_type": "markdown",
   "id": "23dfdf82",
   "metadata": {},
   "source": [
    "# 🔄 Postorder Traversal - Binary Tree"
   ]
  },
  {
   "cell_type": "markdown",
   "id": "1ecdaa6f",
   "metadata": {},
   "source": [
    "### 🧠 Postorder Traversal Explained\n",
    "\n",
    "Postorder traversal is a depth-first traversal method that visits nodes in the order:  \n",
    "**`Left ➝ Right ➝ Node`**\n",
    "\n",
    "This technique is useful in scenarios like:\n",
    "\n",
    "- 🧹 Deleting or freeing nodes from memory (bottom-up approach)\n",
    "- 🧮 Evaluating **expression trees** after processing operands\n",
    "- 📊 Useful for problems that require bottom-up construction or analysis\n",
    "\n",
    "In simpler steps:\n",
    "1. Traverse the **left subtree**\n",
    "2. Traverse the **right subtree**\n",
    "3. Visit the **current node**"
   ]
  },
  {
   "cell_type": "markdown",
   "id": "fe7595ad",
   "metadata": {},
   "source": [
    "### 🖼 Visual Representation\n",
    "<img src=\"../../images/postorder_traversal.png\" width=\"400\">\n",
    "\n",
    "\n",
    "You can visualize the steps:\n",
    "- Start at root A\n",
    "- Go left to B\n",
    "- B has no left child → visit B\n",
    "- Backtrack to A \n",
    "- Go right to C → visit C\n",
    "- C has no left child\n",
    "- Backtrack to A → visit A\n"
   ]
  },
  {
   "cell_type": "code",
   "execution_count": null,
   "id": "bf657710",
   "metadata": {},
   "outputs": [],
   "source": [
    "# ✅ Inorder Traversal using Recursion\n",
    "\n",
    "class TreeNode:\n",
    "    def __init__(self, val=0, left=None, right=None):\n",
    "        self.val = val\n",
    "        self.left = left\n",
    "        self.right = right\n",
    "\n",
    "def postrderTraversal(root):\n",
    "    result = []\n",
    "\n",
    "    def dfs(node):\n",
    "        if not node:\n",
    "            return\n",
    "        dfs(node.left)\n",
    "        dfs(node.right)\n",
    "        result.append(node.val)\n",
    "\n",
    "    dfs(root)\n",
    "    return result\n"
   ]
  },
  {
   "cell_type": "code",
   "execution_count": null,
   "id": "00d047c4",
   "metadata": {},
   "outputs": [],
   "source": [
    "# 🔍 Test Example\n",
    "\n",
    "# Tree:     1\n",
    "#             \\\n",
    "#              2\n",
    "#             /\n",
    "#            3\n",
    "\n",
    "tree = TreeNode(1)\n",
    "tree.right = TreeNode(2)\n",
    "tree.right.left = TreeNode(3)\n",
    "\n",
    "print(postrderTraversal(tree))  # Output: [3,2,1]\n"
   ]
  },
  {
   "cell_type": "markdown",
   "id": "dd80355b",
   "metadata": {},
   "source": [
    "✅ This method has:\n",
    "- **Time Complexity**: O(n) — each node is visited once\n",
    "- **Space Complexity**: O(h) — where h is the height of the tree (recursion stack)"
   ]
  }
 ],
 "metadata": {
  "language_info": {
   "name": "python"
  }
 },
 "nbformat": 4,
 "nbformat_minor": 5
}
