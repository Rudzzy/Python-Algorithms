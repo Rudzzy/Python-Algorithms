{
 "cells": [
  {
   "cell_type": "markdown",
   "id": "022d469c",
   "metadata": {},
   "source": [
    "# 🔍 Searching in Trees\n",
    "\n",
    "Tree searching is a fundamental operation used to determine whether a certain value exists in a tree data structure.\n"
   ]
  },
  {
   "cell_type": "markdown",
   "id": "59516f00",
   "metadata": {},
   "source": [
    "## 🔹 Searching in Binary Trees (BT)\n",
    "\n",
    "Binary trees are **not sorted**, so to find a value you must explore the entire structure.\n",
    "\n",
    "### ✅ Approaches:\n",
    "- **Depth-First Search (DFS)**\n",
    "- **Breadth-First Search (BFS)**\n",
    "\n",
    "### 🧠 Example Tree:\n",
    "```\n",
    "        7\n",
    "      /   \\\n",
    "     4     9\n",
    "    / \\     \\\n",
    "   2   5     11\n",
    "```\n",
    "\n",
    "### Searching for 5:\n",
    "- **DFS Path:** 7 → 4 → 2 → backtrack → 5 ✅  \n",
    "- **BFS Path:** 7 → 4 → 9 → 2 → 5 ✅\n",
    "\n",
    "**Worst-case time complexity:** `O(n)`\n"
   ]
  },
  {
   "cell_type": "markdown",
   "id": "26ea2a26",
   "metadata": {},
   "source": [
    "## 🌲 Searching in Binary Search Trees (BST)\n",
    "\n",
    "Binary Search Trees are **ordered**, so searching is much more efficient.\n",
    "\n",
    "### ✅ Rule:\n",
    "- All nodes in the left subtree are **less** than the root.\n",
    "- All nodes in the right subtree are **greater** than the root.\n",
    "\n",
    "### 🧠 Example BST:\n",
    "```\n",
    "        10\n",
    "      /    \\\n",
    "     5      15\n",
    "    / \\    /  \\\n",
    "   2   7  12  20\n",
    "```\n",
    "\n",
    "### Searching for 7:\n",
    "- 7 < 10 → move left to 5  \n",
    "- 7 > 5 → move right to 7 ✅\n",
    "\n",
    "**Time complexity:**\n",
    "- Balanced BST → `O(log n)`\n",
    "- Unbalanced BST → `O(n)`\n"
   ]
  },
  {
   "cell_type": "markdown",
   "id": "7f9dc9ca",
   "metadata": {},
   "source": [
    "## 🧩 Interview Insight\n",
    "\n",
    "| Tree Type | Strategy |\n",
    "|-----------|----------|\n",
    "| Binary Tree (BT) | DFS or BFS |\n",
    "| Binary Search Tree (BST) | Ordered Search (use `<` and `>`) |\n",
    "\n",
    "Always be ready to implement both **recursive** and **iterative** search methods!\n"
   ]
  }
 ],
 "metadata": {},
 "nbformat": 4,
 "nbformat_minor": 5
}
