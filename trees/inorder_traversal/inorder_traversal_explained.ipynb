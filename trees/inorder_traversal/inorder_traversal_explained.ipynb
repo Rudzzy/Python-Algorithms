{
 "cells": [
  {
   "cell_type": "markdown",
   "id": "23dfdf82",
   "metadata": {},
   "source": [
    "# 🔄 Inorder Traversal - Binary Tree"
   ]
  },
  {
   "cell_type": "markdown",
   "id": "1ecdaa6f",
   "metadata": {},
   "source": [
    "### 🧠 Inorder Traversal Explained\n",
    "\n",
    "Inorder traversal is one of the fundamental depth-first traversal methods used in binary trees.  \n",
    "It visits nodes in the following order:  \n",
    "**`Left ➝ Node ➝ Right`**\n",
    "\n",
    "This method is especially useful when:\n",
    "\n",
    "- ✅ Retrieving sorted data from a Binary Search Tree (BST)\n",
    "- 🔁 Recursively processing subtrees\n",
    "- 📚 Reading nodes in a left-to-right logical order\n",
    "\n",
    "In simple terms:\n",
    "1. Traverse the entire **left subtree**\n",
    "2. Process the **current node**\n",
    "3. Traverse the entire **right subtree**"
   ]
  },
  {
   "cell_type": "markdown",
   "id": "fe7595ad",
   "metadata": {},
   "source": [
    "### 🖼 Visual Representation\n",
    "<img src=\"../../images/inorder_traversal.png\" width=\"400\">\n",
    "\n",
    "\n",
    "You can visualize the steps:\n",
    "- Start at root A\n",
    "- Go left to B\n",
    "- B has no left child → visit B\n",
    "- Backtrack to A → visit A\n",
    "- Go right to C\n",
    "- C has no left child → visit C\n"
   ]
  },
  {
   "cell_type": "code",
   "execution_count": null,
   "id": "bf657710",
   "metadata": {},
   "outputs": [],
   "source": [
    "# ✅ Inorder Traversal using Recursion\n",
    "\n",
    "class TreeNode:\n",
    "    def __init__(self, val=0, left=None, right=None):\n",
    "        self.val = val\n",
    "        self.left = left\n",
    "        self.right = right\n",
    "\n",
    "def inorderTraversal(root):\n",
    "    result = []\n",
    "\n",
    "    def dfs(node):\n",
    "        if not node:\n",
    "            return\n",
    "        dfs(node.left)\n",
    "        result.append(node.val)\n",
    "        dfs(node.right)\n",
    "\n",
    "    dfs(root)\n",
    "    return result\n"
   ]
  },
  {
   "cell_type": "code",
   "execution_count": null,
   "id": "00d047c4",
   "metadata": {},
   "outputs": [],
   "source": [
    "# 🔍 Test Example\n",
    "\n",
    "# Tree:     1\n",
    "#             \\\n",
    "#              2\n",
    "#             /\n",
    "#            3\n",
    "\n",
    "tree = TreeNode(1)\n",
    "tree.right = TreeNode(2)\n",
    "tree.right.left = TreeNode(3)\n",
    "\n",
    "print(inorderTraversal(tree))  # Output: [1, 3, 2]\n"
   ]
  },
  {
   "cell_type": "markdown",
   "id": "dd80355b",
   "metadata": {},
   "source": [
    "✅ This method has:\n",
    "- **Time Complexity**: O(n) — each node is visited once\n",
    "- **Space Complexity**: O(h) — where h is the height of the tree (recursion stack)"
   ]
  }
 ],
 "metadata": {
  "language_info": {
   "name": "python"
  }
 },
 "nbformat": 4,
 "nbformat_minor": 5
}
