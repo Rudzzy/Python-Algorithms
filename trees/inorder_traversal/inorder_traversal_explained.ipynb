{
 "cells": [
  {
   "cell_type": "markdown",
   "id": "23dfdf82",
   "metadata": {},
   "source": [
    "# 🔄 Inorder Traversal - Binary Tree"
   ]
  },
  {
   "cell_type": "markdown",
   "id": "1ecdaa6f",
   "metadata": {},
   "source": [
    "\n",
    "**Problem**: Perform an inorder traversal of a binary tree and return the values in a list.\n",
    "\n",
    "Inorder traversal visits nodes in the order:  \n",
    "`Left ➝ Node ➝ Right`\n",
    "\n",
    "This is one of the fundamental depth-first traversal methods and is often used for:\n",
    "- Retrieving sorted data from a Binary Search Tree (BST)\n",
    "- Recursively exploring left and right children\n",
    "\n",
    "---\n",
    "\n",
    "📘 **Visual Example:**\n",
    "\n",
    "```\n",
    "        1\n",
    "                   2\n",
    "         /\n",
    "        3\n",
    "```\n",
    "\n",
    "Expected inorder output: `[1, 3, 2]`\n",
    "\n",
    "You can visualize the steps:\n",
    "- Left of 1? ❌ → Visit 1\n",
    "- Move to 2 → Go left → Visit 3\n",
    "- Backtrack and visit 2\n",
    "    "
   ]
  },
  {
   "cell_type": "markdown",
   "id": "fe7595ad",
   "metadata": {},
   "source": [
    "### 🖼 Image (Optional Placeholder)\n",
    "Add a diagram like this if you have one in your `/images` folder:\n",
    "```markdown\n",
    "![Inorder Tree](../images/inorder_example.png)\n",
    "```"
   ]
  },
  {
   "cell_type": "code",
   "execution_count": null,
   "id": "bf657710",
   "metadata": {},
   "outputs": [],
   "source": [
    "# ✅ Inorder Traversal using Recursion\n",
    "\n",
    "class TreeNode:\n",
    "    def __init__(self, val=0, left=None, right=None):\n",
    "        self.val = val\n",
    "        self.left = left\n",
    "        self.right = right\n",
    "\n",
    "def inorderTraversal(root):\n",
    "    result = []\n",
    "\n",
    "    def dfs(node):\n",
    "        if not node:\n",
    "            return\n",
    "        dfs(node.left)\n",
    "        result.append(node.val)\n",
    "        dfs(node.right)\n",
    "\n",
    "    dfs(root)\n",
    "    return result\n"
   ]
  },
  {
   "cell_type": "code",
   "execution_count": null,
   "id": "00d047c4",
   "metadata": {},
   "outputs": [],
   "source": [
    "# 🔍 Test Example\n",
    "\n",
    "# Tree:     1\n",
    "#             \\\n",
    "#              2\n",
    "#             /\n",
    "#            3\n",
    "\n",
    "tree = TreeNode(1)\n",
    "tree.right = TreeNode(2)\n",
    "tree.right.left = TreeNode(3)\n",
    "\n",
    "print(inorderTraversal(tree))  # Output: [1, 3, 2]\n"
   ]
  },
  {
   "cell_type": "markdown",
   "id": "dd80355b",
   "metadata": {},
   "source": [
    "✅ This method has:\n",
    "- **Time Complexity**: O(n) — each node is visited once\n",
    "- **Space Complexity**: O(h) — where h is the height of the tree (recursion stack)"
   ]
  }
 ],
 "metadata": {},
 "nbformat": 4,
 "nbformat_minor": 5
}