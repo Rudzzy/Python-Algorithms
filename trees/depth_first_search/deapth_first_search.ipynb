{
 "cells": [
  {
   "cell_type": "markdown",
   "id": "c8f7375a",
   "metadata": {},
   "source": [
    "# 🌳 Depth-First Search (DFS) - Binary Trees\n",
    "---\n",
    "### 🧠 What is DFS (Depth-First Search)?\n",
    "Depth-First Search (DFS) is a **graph/tree traversal algorithm** that explores as far as possible along each branch before backtracking.\n",
    "\n",
    "In binary trees, DFS explores:\n",
    "- The **left subtree**\n",
    "- Then the **right subtree**\n",
    "- Guided by a specific **order of visitation** (e.g., Preorder, Inorder, Postorder)"
   ]
  },
  {
   "cell_type": "markdown",
   "id": "796626a7",
   "metadata": {},
   "source": [
    "---\n",
    "### ✅ Why DFS Matters in Trees\n",
    "- 🔄 **Recursive by nature**: Mirrors the structure of trees.\n",
    "- 💡 **Simplifies problems** like:\n",
    "  - Subtree checks\n",
    "  - Path finding\n",
    "  - Expression tree evaluations\n",
    "  - Serialization and Deserialization\n",
    "- 💻 Often appears in **coding interviews**, especially:\n",
    "  - LeetCode, Codeforces, CodeChef\n",
    "  - Company rounds (FAANG, startups, etc.)"
   ]
  },
  {
   "cell_type": "markdown",
   "id": "c77f7c01",
   "metadata": {},
   "source": [
    "---\n",
    "### 🔄 DFS Traversal Orders\n",
    "\n",
    "| Traversal Type  | Visit Order         | Common Use-Cases                            |\n",
    "|-----------------|---------------------|---------------------------------------------|\n",
    "| Preorder        | Node → Left → Right | Copy tree, expression evaluation, serialization |\n",
    "| Inorder         | Left → Node → Right | Get sorted output from a BST                |\n",
    "| Postorder       | Left → Right → Node | Delete tree, bottom-up calculations         |"
   ]
  },
  {
   "cell_type": "markdown",
   "id": "3f7bc757",
   "metadata": {},
   "source": [
    "---\n",
    "### 📦 DFS Implementation Patterns\n",
    "\n",
    "#### 1. **Recursive DFS (most common in trees)**\n",
    "```python\n",
    "def dfs(node):\n",
    "    if not node:\n",
    "        return\n",
    "    # Do something\n",
    "    dfs(node.left)\n",
    "    dfs(node.right)\n",
    "```\n",
    "\n",
    "#### 2. **Iterative DFS (using stack)**\n",
    "```python\n",
    "def dfs_iterative(root):\n",
    "    stack = [root]\n",
    "    while stack:\n",
    "        node = stack.pop()\n",
    "        # process node\n",
    "        if node.right:\n",
    "            stack.append(node.right)\n",
    "        if node.left:\n",
    "            stack.append(node.left)\n",
    "```\n",
    "\n",
    "Iterative DFS can be useful when recursion depth is a concern or when mimicking system call stack behavior."
   ]
  },
  {
   "cell_type": "markdown",
   "id": "10d46346",
   "metadata": {},
   "source": [
    "---\n",
    "### 🧪 Time and Space Complexity\n",
    "\n",
    "| Case            | Time Complexity | Space Complexity |\n",
    "|----------------|-----------------|------------------|\n",
    "| Worst-case     | O(n)            | O(n) (recursion stack or explicit stack) |\n",
    "| Balanced Tree  | O(n)            | O(log n) stack space (height of tree)   |"
   ]
  }
 ],
 "metadata": {
  "kernelspec": {
   "display_name": "Python 3",
   "language": "python",
   "name": "python3"
  },
  "language_info": {
   "name": "python",
   "version": "3.10"
  }
 },
 "nbformat": 4,
 "nbformat_minor": 5
}
