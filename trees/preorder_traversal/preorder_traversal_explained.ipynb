{
 "cells": [
  {
   "cell_type": "markdown",
   "id": "2aa284c0",
   "metadata": {},
   "source": [
    "### 🧠 Preorder Traversal Explained\n",
    "\n",
    "Preorder traversal is another depth-first traversal method used in binary trees.  \n",
    "It visits nodes in the following order:  \n",
    "**`Node ➝ Left ➝ Right`**\n",
    "\n",
    "This method is useful when:\n",
    "\n",
    "- 🛠️ You want to **copy or serialize** a tree structure\n",
    "- 📦 You're evaluating or translating an **expression tree**\n",
    "- 🚀 You need to process the **root node before its children**\n",
    "\n",
    "In simple terms:\n",
    "1. Visit the **current node**\n",
    "2. Traverse the **left subtree**\n",
    "3. Traverse the **right subtree**\n"
   ]
  },
  {
   "cell_type": "markdown",
   "id": "cd1f0631",
   "metadata": {},
   "source": [
    "### 🌳 Sample Tree Structure\n",
    "\n",
    "\n",
    "<img src=\"../../images/preorder_traversal.png\" width=\"400\">\n",
    "\n"
   ]
  },
  {
   "cell_type": "markdown",
   "id": "3a64b5ce",
   "metadata": {},
   "source": []
  },
  {
   "cell_type": "code",
   "execution_count": 3,
   "id": "9e828039",
   "metadata": {},
   "outputs": [],
   "source": [
    "# ✅ Recursive Preorder Traversal\n",
    "class TreeNode:\n",
    "    def __init__(self, val):\n",
    "        self.val = val\n",
    "        self.left = None\n",
    "        self.right = None\n",
    "\n",
    "def preorder_traversal(root):\n",
    "    result = []\n",
    "    def dfs(node):\n",
    "        if not node:\n",
    "            return\n",
    "        result.append(node.val)\n",
    "        dfs(node.left)\n",
    "        dfs(node.right)\n",
    "    dfs(root)\n",
    "    return result\n"
   ]
  },
  {
   "cell_type": "code",
   "execution_count": 4,
   "id": "cb78fd55",
   "metadata": {},
   "outputs": [
    {
     "data": {
      "text/plain": [
       "['A', 'B', 'C']"
      ]
     },
     "execution_count": 4,
     "metadata": {},
     "output_type": "execute_result"
    }
   ],
   "source": [
    "# 🌳 Building the tree:\n",
    "#      A\n",
    "#     / \\\n",
    "#    B   C\n",
    "\n",
    "root = TreeNode(\"A\")\n",
    "root.left = TreeNode(\"B\")\n",
    "root.right = TreeNode(\"C\")\n",
    "\n",
    "# ▶️ Test Preorder Traversal\n",
    "preorder_traversal(root)  # Output: ['A', 'B', 'C']\n"
   ]
  },
  {
   "cell_type": "markdown",
   "id": "03868642",
   "metadata": {},
   "source": [
    "### ⏱️ Time and Space Complexity\n",
    "\n",
    "- **Time Complexity**: O(n) — where n is the number of nodes, since every node is visited once.\n",
    "- **Space Complexity**: O(h) — where h is the height of the tree (stack space in recursion).\n"
   ]
  }
 ],
 "metadata": {
  "kernelspec": {
   "display_name": "Python 3",
   "language": "python",
   "name": "python3"
  },
  "language_info": {
   "codemirror_mode": {
    "name": "ipython",
    "version": 3
   },
   "file_extension": ".py",
   "mimetype": "text/x-python",
   "name": "python",
   "nbconvert_exporter": "python",
   "pygments_lexer": "ipython3",
   "version": "3.13.1"
  }
 },
 "nbformat": 4,
 "nbformat_minor": 5
}
