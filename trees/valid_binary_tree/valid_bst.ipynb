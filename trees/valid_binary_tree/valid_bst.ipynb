{
 "cells": [
  {
   "cell_type": "markdown",
   "id": "7b129aa0",
   "metadata": {},
   "source": [
    "# ✅ Valid Binary Search Tree (BST)\n",
    "\n",
    "A **Binary Search Tree (BST)** is valid if:\n",
    "- All nodes in the left subtree of a node are **less than** the node.\n",
    "- All nodes in the right subtree of a node are **greater than** the node.\n",
    "- Both subtrees must themselves be valid BSTs."
   ]
  },
  {
   "cell_type": "markdown",
   "id": "edba9ed2",
   "metadata": {},
   "source": [
    "### 📍 Example of a Valid BST:\n",
    "```\n",
    "        5\n",
    "      /   \\\n",
    "     3     7\n",
    "    / \\   / \\\n",
    "   2  4  6   8\n",
    "```\n",
    "This is a **valid BST** because it satisfies all the required conditions.\n"
   ]
  },
  {
   "cell_type": "markdown",
   "id": "d502f683",
   "metadata": {},
   "source": [
    "### ❌ Example of an Invalid BST:\n",
    "```\n",
    "        5\n",
    "      /   \\\n",
    "     1     4\n",
    "          / \\\n",
    "         3   6\n",
    "```\n",
    "This tree is **not a valid BST** because `3` is in the right subtree of `5` but is less than `5`.\n"
   ]
  },
  {
   "cell_type": "markdown",
   "id": "d64d1901",
   "metadata": {},
   "source": [
    "### ✅ Common Techniques to Validate a BST:\n",
    "\n",
    "1. **Recursive with min/max bounds**  \n",
    "   Check each node falls between allowed `min` and `max` values recursively.\n",
    "\n",
    "2. **Inorder Traversal**  \n",
    "   A valid BST will give an **increasing** inorder sequence ( strictly sorted list ).\n"
   ]
  }
 ],
 "metadata": {
  "language_info": {
   "name": "python"
  }
 },
 "nbformat": 4,
 "nbformat_minor": 5
}
