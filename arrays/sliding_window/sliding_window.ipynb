{
 "cells": [
  {
   "cell_type": "markdown",
   "id": "03dc7538",
   "metadata": {},
   "source": [
    "# 🪟 Sliding Window Technique"
   ]
  },
  {
   "cell_type": "markdown",
   "id": "11548c18",
   "metadata": {},
   "source": [
    "The sliding window is a **powerful optimization technique** used to solve problems involving **arrays or lists**.\n",
    "\n",
    "Instead of using a nested loop to examine every possible subarray, we maintain a **window** that slides through the input and calculates the result incrementally.\n",
    "\n",
    "## 💡Key Concepts:\n",
    "- Use two pointers: `left` and `right`.\n",
    "- These define the window's bounds.\n",
    "- Based on the problem’s constraint (e.g., window size `k`, target sum, max/min conditions), you **expand (`right += 1`)** or **shrink (`left += 1`)** the window.\n",
    "- Maintain variables like window sum, max value, or character frequency to compute results efficiently.\n",
    "\n",
    "**Time complexity** often reduces from O(n²) to O(n)."
   ]
  },
  {
   "cell_type": "markdown",
   "id": "9bcf9aae",
   "metadata": {},
   "source": [
    "## 🔍 Problem: Maximum Sum of Subarray of Size `k`\n",
    "\n",
    "**Given** an array of integers and a number `k`, find the maximum sum of a subarray of size `k`.\n",
    "\n",
    "Example:\n",
    "```python\n",
    "arr = [2, 1, 5, 1, 3, 2], k = 3\n",
    "# Output: 9  => subarray [5, 1, 3]\n",
    "```"
   ]
  },
  {
   "cell_type": "code",
   "execution_count": 1,
   "id": "3ad208e5",
   "metadata": {},
   "outputs": [
    {
     "name": "stdout",
     "output_type": "stream",
     "text": [
      "Max Sum of Subarray of size k: 9\n"
     ]
    }
   ],
   "source": [
    "def max_sum_subarray(arr, k):\n",
    "    max_sum = 0\n",
    "    window_sum = 0\n",
    "    left = 0\n",
    "\n",
    "    for right in range(len(arr)):\n",
    "        window_sum += arr[right]\n",
    "\n",
    "        # When we've hit the window size, update result and shrink from the left\n",
    "        if right >= k - 1:\n",
    "            max_sum = max(max_sum, window_sum)\n",
    "            window_sum -= arr[left]\n",
    "            left += 1\n",
    "    return max_sum\n",
    "\n",
    "# Example usage:\n",
    "arr = [2, 1, 5, 1, 3, 2]\n",
    "k = 3\n",
    "print(\"Max Sum of Subarray of size k:\", max_sum_subarray(arr, k))"
   ]
  },
  {
   "cell_type": "markdown",
   "id": "5bca04a0",
   "metadata": {},
   "source": [
    "## Visualization\n",
    "- 🟩 Represents current window\n",
    "- 🔼 Left and right pointers shift as needed\n",
    "\n",
    "**Window Slide:**\n",
    "```\n",
    "[2, 1, 5, 1, 3, 2]   k = 3\n",
    " ^  ^\n",
    " L  R → Sum = 2 + 1 + 5 = 8\n",
    "\n",
    "    ^     ^\n",
    "    L     R → Subtract arr[L-1], Add arr[R]\n",
    "```\n",
    "This dynamic movement improves performance and scales for large inputs."
   ]
  },
  {
   "cell_type": "markdown",
   "id": "80e37634",
   "metadata": {},
   "source": [
    "## Real-World Applications\n",
    "- Analytics (e.g., moving average)\n",
    "- Signal processing\n",
    "- Network packet analysis\n",
    "- Financial trend tracking\n",
    "- Longest substring with unique characters"
   ]
  }
 ],
 "metadata": {
  "kernelspec": {
   "display_name": "Python 3",
   "language": "python",
   "name": "python3"
  },
  "language_info": {
   "codemirror_mode": {
    "name": "ipython",
    "version": 3
   },
   "file_extension": ".py",
   "mimetype": "text/x-python",
   "name": "python",
   "nbconvert_exporter": "python",
   "pygments_lexer": "ipython3",
   "version": "3.13.1"
  }
 },
 "nbformat": 4,
 "nbformat_minor": 5
}
